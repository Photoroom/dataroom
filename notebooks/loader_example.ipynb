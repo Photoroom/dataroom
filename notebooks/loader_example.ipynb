{
 "cells": [
  {
   "cell_type": "markdown",
   "source": [
    "Initialize the client"
   ],
   "metadata": {
    "collapsed": false
   },
   "id": "af4818de7710923e"
  },
  {
   "cell_type": "code",
   "execution_count": null,
   "id": "initial_id",
   "metadata": {
    "collapsed": true
   },
   "outputs": [],
   "source": [
    "import os\n",
    "from dataroom_client import DataRoomClient\n",
    "\n",
    "os.environ['DATAROOM_API_URL'] = 'http://localhost:8000/api/'\n",
    "os.environ['DATAROOM_API_KEY'] = '011f68d747a2546dcc35898e08ef0a8d223e2dd7'\n",
    "\n",
    "DataRoom = DataRoomClient()"
   ]
  },
  {
   "cell_type": "markdown",
   "source": [
    "Initialize the loader"
   ],
   "metadata": {
    "collapsed": false
   },
   "id": "fa644c98dd9b8321"
  },
  {
   "cell_type": "code",
   "execution_count": null,
   "outputs": [],
   "source": [
    "from dataroom_client import DataRoomLoader\n",
    "\n",
    "concurrency = 12\n",
    "Loader = DataRoomLoader(\n",
    "    client=DataRoom,\n",
    "    folder_path='local_files',\n",
    "    concurrency=concurrency,\n",
    "    image_source=\"loader\",\n",
    "    image_id_prefix=\"loader-example-\",\n",
    ")"
   ],
   "metadata": {
    "collapsed": false
   },
   "id": "f79e94aaf64b3f09"
  },
  {
   "cell_type": "markdown",
   "source": [
    "Run the loader"
   ],
   "metadata": {
    "collapsed": false
   },
   "id": "13ad2b3f5274726f"
  },
  {
   "cell_type": "code",
   "execution_count": null,
   "outputs": [],
   "source": [
    "await Loader.run()"
   ],
   "metadata": {
    "collapsed": false
   },
   "id": "cf4aad73e1a0f38e"
  },
  {
   "cell_type": "markdown",
   "source": [
    "Print the results"
   ],
   "metadata": {
    "collapsed": false
   },
   "id": "d7ed0548b6636634"
  },
  {
   "cell_type": "code",
   "execution_count": null,
   "outputs": [],
   "source": [
    "took = Loader.counter.time_took\n",
    "print('concurrency =', concurrency)\n",
    "print('total time =', took.total_seconds())\n",
    "print('time per image =', took.total_seconds() / Loader.counter.total)\n",
    "print('')\n"
   ],
   "metadata": {
    "collapsed": false
   },
   "id": "affa957c363619df"
  },
  {
   "cell_type": "markdown",
   "source": [],
   "metadata": {
    "collapsed": false
   },
   "id": "ec6b214f429a14ba"
  }
 ],
 "metadata": {
  "kernelspec": {
   "display_name": "Python 3",
   "language": "python",
   "name": "python3"
  },
  "language_info": {
   "codemirror_mode": {
    "name": "ipython",
    "version": 2
   },
   "file_extension": ".py",
   "mimetype": "text/x-python",
   "name": "python",
   "nbconvert_exporter": "python",
   "pygments_lexer": "ipython2",
   "version": "2.7.6"
  }
 },
 "nbformat": 4,
 "nbformat_minor": 5
}
