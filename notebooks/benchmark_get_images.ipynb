{
 "cells": [
  {
   "cell_type": "markdown",
   "id": "425b8e57a0d1572f",
   "metadata": {
    "collapsed": false
   },
   "source": [
    "# DataRoom Benchmark"
   ]
  },
  {
   "cell_type": "markdown",
   "id": "a00a8e193e0e45a7",
   "metadata": {
    "collapsed": false
   },
   "source": [
    "# Initialize the client"
   ]
  },
  {
   "cell_type": "code",
   "execution_count": null,
   "id": "initial_id",
   "metadata": {},
   "outputs": [],
   "source": [
    "import os\n",
    "from dataroom_client import DataRoomClient\n",
    "\n",
    "os.environ['DATAROOM_API_URL'] = ''\n",
    "os.environ['DATAROOM_API_KEY'] = ''\n",
    "\n",
    "DataRoom = DataRoomClient()"
   ]
  },
  {
   "cell_type": "code",
   "execution_count": null,
   "id": "89decde82de4e03e",
   "metadata": {
    "collapsed": false
   },
   "outputs": [],
   "source": [
    "import datetime\n",
    "\n",
    "\n",
    "total_images = 100000\n",
    "timings = {\n",
    "    (100000, 'id'): None,\n",
    "}\n",
    "for page_size, fields in timings.keys():\n",
    "    start = datetime.datetime.now()\n",
    "    print(f'Getting {total_images} images with page_size={page_size} and fields={fields}')\n",
    "    fields_list = fields.split(',') if fields else None\n",
    "    images = await DataRoom.get_images(limit=total_images, page_size=page_size, fields=fields_list, source='movies')\n",
    "    end = datetime.datetime.now()\n",
    "    \n",
    "    duration = end - start\n",
    "    timings[page_size, fields] = duration\n",
    "    time_per_image = duration.total_seconds() / total_images\n",
    "    print(f'Took: {duration}')\n",
    "    print(f'Per image: {time_per_image}s')\n",
    "    print('')\n"
   ]
  },
  {
   "cell_type": "code",
   "execution_count": null,
   "id": "96b38f0beb7fa18c",
   "metadata": {
    "collapsed": false
   },
   "outputs": [],
   "source": [
    "import datetime\n",
    "\n",
    "\n",
    "total_images = 100000\n",
    "timings = {\n",
    "    (100000, 'id'): None,\n",
    "}\n",
    "for page_size, fields in timings.keys():\n",
    "    start = datetime.datetime.now()\n",
    "    print(f'Getting {total_images} images using an async generator with page_size={page_size} and fields={fields}')\n",
    "    items = []\n",
    "    fields_list = fields.split(',') if fields else None\n",
    "    async for item in DataRoom.get_images_iter(limit=total_images, page_size=page_size, fields=fields_list):\n",
    "        items.append(item)\n",
    "    end = datetime.datetime.now()\n",
    "    \n",
    "    duration = end - start\n",
    "    timings[page_size, fields] = duration\n",
    "    time_per_image = duration.total_seconds() / total_images\n",
    "    print(f'Took: {duration}')\n",
    "    print(f'Per image: {time_per_image}s')\n",
    "    print('')\n"
   ]
  },
  {
   "cell_type": "code",
   "execution_count": null,
   "id": "570d2ebdae7b0395",
   "metadata": {
    "collapsed": false
   },
   "outputs": [],
   "source": []
  }
 ],
 "metadata": {
  "kernelspec": {
   "display_name": "Python 3 (ipykernel)",
   "language": "python",
   "name": "python3"
  },
  "language_info": {
   "codemirror_mode": {
    "name": "ipython",
    "version": 3
   },
   "file_extension": ".py",
   "mimetype": "text/x-python",
   "name": "python",
   "nbconvert_exporter": "python",
   "pygments_lexer": "ipython3",
   "version": "3.11.6"
  }
 },
 "nbformat": 4,
 "nbformat_minor": 5
}
