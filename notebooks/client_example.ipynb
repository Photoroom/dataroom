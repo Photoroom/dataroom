{
 "cells": [
  {
   "cell_type": "markdown",
   "id": "425b8e57a0d1572f",
   "metadata": {
    "collapsed": false
   },
   "source": [
    "# DataRoom API Client Examples"
   ]
  },
  {
   "cell_type": "markdown",
   "id": "a00a8e193e0e45a7",
   "metadata": {
    "collapsed": false
   },
   "source": [
    "# Initialize the client"
   ]
  },
  {
   "cell_type": "code",
   "execution_count": null,
   "id": "initial_id",
   "metadata": {},
   "outputs": [],
   "source": [
    "import os\n",
    "from dataroom_client import DataRoomClient\n",
    "\n",
    "# You can specify the API key with an environment variable\n",
    "os.environ['DATAROOM_API_KEY'] = 'YOUR_KEY_HERE'\n",
    "\n",
    "# or by passing them directly to the DataRoomClient\n",
    "DataRoom = DataRoomClient(\n",
    "    api_url='http://localhost:8000/api/',\n",
    ")"
   ]
  },
  {
   "cell_type": "markdown",
   "id": "81e37ce1e0f9b8be",
   "metadata": {},
   "source": [
    "#### Utils"
   ]
  },
  {
   "cell_type": "code",
   "execution_count": null,
   "id": "d3104e9e7afb443d",
   "metadata": {},
   "outputs": [],
   "source": [
    "import numpy as np\n",
    "import random\n",
    "\n",
    "def get_random_vector():\n",
    "    vector = np.array([random.randint(-99, 99) / 100 for _ in range(768)])\n",
    "    norm = np.linalg.norm(vector)\n",
    "    if norm == 0: \n",
    "        return get_random_vector()\n",
    "    normalized_vector = vector / norm\n",
    "    return normalized_vector"
   ]
  },
  {
   "cell_type": "markdown",
   "id": "97433a37e9737fed",
   "metadata": {},
   "source": [
    "# Images"
   ]
  },
  {
   "cell_type": "markdown",
   "id": "276d81ebca87ea5c",
   "metadata": {
    "collapsed": false
   },
   "source": [
    "### Create an image from URL\n",
    "If an existing image with the same URL exists, it will be returned instead of creating a new one."
   ]
  },
  {
   "cell_type": "code",
   "execution_count": null,
   "id": "7b45cd4f9ab6cee0",
   "metadata": {
    "collapsed": false
   },
   "outputs": [],
   "source": [
    "urls = [\n",
    "    'https://storyblok-cdn.photoroom.com/f/191576/1200x800/e5ea306bf8/instant_backgrounds_before_.webp',\n",
    "    'https://storyblok-cdn.photoroom.com/f/191576/1200x800/88361a19c7/retouch_before_.webp',\n",
    "    'https://storyblok-cdn.photoroom.com/f/191576/1200x800/56d7182862/blur_background_before_.webp',\n",
    "    'https://storyblok-cdn.photoroom.com/f/191576/1200x800/766477a3f1/instant_shadows_before_.webp',\n",
    "    'https://storyblok-cdn.photoroom.com/f/191576/1200x800/f647012ecc/black_background_before_.webp',\n",
    "    'https://storyblok-cdn.photoroom.com/f/191576/1200x800/395dec599c/add_text_to_photo_before_.webp',\n",
    "    'https://storyblok-cdn.photoroom.com/f/191576/1200x800/df26425c7c/transparent_background_before_.webp',\n",
    "    'https://storyblok-cdn.photoroom.com/f/191576/1200x800/90c0650cff/add_background_before_.webp',\n",
    "    'https://storyblok-cdn.photoroom.com/f/191576/1200x800/79462dda37/profile_picture_maker_before_.webp',\n",
    "    'https://storyblok-cdn.photoroom.com/f/191576/1200x800/261d04cfee/color_splasher_before_.webp',\n",
    "    'https://storyblok-cdn.photoroom.com/f/191576/1200x800/e11629f859/motion_blur_effect_before_-1.webp',\n",
    "    'https://storyblok-cdn.photoroom.com/f/191576/1176x882/c6f7f639fb/change_color_of_image_before_.webp',\n",
    "    'https://storyblok-cdn.photoroom.com/f/191576/1200x800/796a3001b7/image_brightener_before_-1.webp',\n",
    "    'https://storyblok-cdn.photoroom.com/f/191576/1200x800/485a1e0863/round_profil_picture_before_.webp',\n",
    "    'https://storyblok-cdn.photoroom.com/f/191576/1200x800/421076ee50/outline_image_before_-photoroom.jpg',\n",
    "    'https://storyblok-cdn.photoroom.com/f/191576/1200x800/f886123123/black_and_white_before_.webp',\n",
    "    'https://storyblok-cdn.photoroom.com/f/191576/1200x800/4e54b928ef/remove_background.webp',\n",
    "]\n",
    "\n",
    "for i, url in enumerate(urls):\n",
    "    image = await DataRoom.create_image(image_id=f'notebook-{i}', image_url=url, source='website')\n",
    "    print(image['id'])"
   ]
  },
  {
   "cell_type": "markdown",
   "id": "30f9b1395dc28ce3",
   "metadata": {
    "collapsed": false
   },
   "source": [
    "### Get all the images\n",
    "The images API is paginated and the client returns the first 1000 images by default. Use the `limit` argument to change the number of images returned."
   ]
  },
  {
   "cell_type": "code",
   "execution_count": null,
   "id": "89decde82de4e03e",
   "metadata": {
    "collapsed": false
   },
   "outputs": [],
   "source": [
    "images = await DataRoom.get_images()\n",
    "images"
   ]
  },
  {
   "cell_type": "markdown",
   "id": "8eb4a8bc9afda145",
   "metadata": {
    "collapsed": false
   },
   "source": [
    "You can specify which fields to return using the `fields` argument."
   ]
  },
  {
   "cell_type": "code",
   "execution_count": null,
   "id": "e447834ae4fa7de4",
   "metadata": {
    "collapsed": false
   },
   "outputs": [],
   "source": [
    "images = await DataRoom.get_images(fields=['id'])\n",
    "images"
   ]
  },
  {
   "cell_type": "markdown",
   "id": "65ac07f299f5dcc5",
   "metadata": {
    "collapsed": false
   },
   "source": [
    "### Get one specific image"
   ]
  },
  {
   "cell_type": "code",
   "execution_count": null,
   "id": "20f4d81e79cd2a3f",
   "metadata": {
    "collapsed": false
   },
   "outputs": [],
   "source": [
    "images = await DataRoom.get_images()\n",
    "image = None\n",
    "if len(images):\n",
    "    image = await DataRoom.get_image(images[0]['id'])\n",
    "image"
   ]
  },
  {
   "cell_type": "markdown",
   "id": "d31c4198edf8d1a0",
   "metadata": {
    "collapsed": false
   },
   "source": [
    "### Get images with async generator"
   ]
  },
  {
   "cell_type": "code",
   "execution_count": null,
   "id": "ea1535aa79c95401",
   "metadata": {
    "collapsed": false
   },
   "outputs": [],
   "source": [
    "count = 0\n",
    "page_size = 1000\n",
    "async for item in DataRoom.get_images_iter(fields=['id'], limit=10000, page_size=page_size):\n",
    "    count += 1\n",
    "    if count % page_size == 0:\n",
    "        print(f'Got {count} images')\n",
    "print(f'Total: {count} images')"
   ]
  },
  {
   "cell_type": "markdown",
   "id": "be3bb5c996cda7b3",
   "metadata": {},
   "source": [
    "### Get images cached\n",
    "The first request will set the cache for 60 seconds and all subsequent requests will return the cached data."
   ]
  },
  {
   "cell_type": "code",
   "execution_count": null,
   "id": "955ad7e68d52c36a",
   "metadata": {},
   "outputs": [],
   "source": [
    "images = await DataRoom.get_images(fields=['id'], cache_ttl=60)\n",
    "images = await DataRoom.get_images(fields=['id'], cache_ttl=60)"
   ]
  },
  {
   "cell_type": "markdown",
   "id": "5dd17397740a0575",
   "metadata": {
    "collapsed": false
   },
   "source": [
    "### Create an image from a downloaded file\n",
    "Here, we download an image from a URL and then pass it to the DataRoomClient as an IOStream. It would be simpler to just pass the URL to the DataRoomClient instead, but this is just an example of how to pass files that are stored locally."
   ]
  },
  {
   "cell_type": "code",
   "execution_count": null,
   "id": "2a527575e2864d2d",
   "metadata": {
    "collapsed": false
   },
   "outputs": [],
   "source": [
    "image_file = await DataRoom.download_image_from_url('https://www.photoroom.com/_next/image?url=%2F_next%2Fstatic%2Fmedia%2Fteam.908694c1.jpg&w=3840&q=75')\n",
    "\n",
    "image = await DataRoom.create_image(image_id='notebook-from-file-0', image_file=image_file, source='website')\n",
    "image"
   ]
  },
  {
   "cell_type": "markdown",
   "id": "c4e0ca0fc260a9a3",
   "metadata": {
    "collapsed": false
   },
   "source": [
    "### Create an image from a local file\n",
    "Example of how to create an image from a local file."
   ]
  },
  {
   "cell_type": "code",
   "execution_count": null,
   "id": "bb6fd5e9c6a39444",
   "metadata": {
    "collapsed": false
   },
   "outputs": [],
   "source": [
    "from dataroom_client import DataRoomFile\n",
    "\n",
    "image_file = DataRoomFile.from_path('image.png')\n",
    "image = await DataRoom.create_image(image_id='notebook-from-file-1', image_file=image_file, source='local')\n",
    "image"
   ]
  },
  {
   "cell_type": "markdown",
   "id": "f43caa1ec5b9dbae",
   "metadata": {
    "collapsed": false
   },
   "source": [
    "### Create image with attributes"
   ]
  },
  {
   "cell_type": "code",
   "execution_count": null,
   "id": "48bb89f4e0a355d6",
   "metadata": {
    "collapsed": false
   },
   "outputs": [],
   "source": [
    "from dataroom_client import DataRoomFile\n",
    "\n",
    "image_file = DataRoomFile.from_path('image.png')\n",
    "image = await DataRoom.create_image(\n",
    "    image_id='notebook-from-file-2',\n",
    "    image_file=image_file,\n",
    "    source='local',\n",
    "    attributes={\n",
    "        'color': 'blue',\n",
    "        'user': 'john',\n",
    "    },\n",
    ")\n",
    "image"
   ]
  },
  {
   "cell_type": "markdown",
   "id": "aec9942de49a18cf",
   "metadata": {},
   "source": [
    "### Create images in bulk"
   ]
  },
  {
   "cell_type": "code",
   "execution_count": null,
   "id": "6259f065ec03abc8",
   "metadata": {},
   "outputs": [],
   "source": [
    "from dataroom_client import DataRoomFile, DataRoomError\n",
    "\n",
    "image_paths = [os.path.join('local_files', path) for path in os.listdir('local_files')]\n",
    "image_files = []\n",
    "for path in image_paths[:10]:\n",
    "    try:\n",
    "        image_files.append(DataRoomFile.from_path(path))\n",
    "    except DataRoomError as e:\n",
    "        print(e)\n",
    "\n",
    "response = await DataRoom.create_images({\n",
    "    \"id\": f\"bulk-create-{image.path.split('/')[-1].split('.')[0]}\",\n",
    "    \"source\": \"bulk-create\",\n",
    "    \"image_file\": image,\n",
    "} for image in image_files)\n",
    "\n",
    "response"
   ]
  },
  {
   "cell_type": "markdown",
   "id": "55b7ef8311ce4d86",
   "metadata": {
    "collapsed": false
   },
   "source": [
    "### Update image"
   ]
  },
  {
   "cell_type": "code",
   "execution_count": null,
   "id": "f65fa1dab40717f9",
   "metadata": {
    "collapsed": false
   },
   "outputs": [],
   "source": [
    "from dataroom_client import DataRoomFile\n",
    "\n",
    "latent_file = DataRoomFile.from_path('image_latent.txt')\n",
    "mask_file = DataRoomFile.from_path('image_mask.png')\n",
    "\n",
    "image = await DataRoom.update_image(\n",
    "    image_id='0002821a23855cb460ba021a8c1d8ef7',\n",
    "    source='dataroom',\n",
    "    attributes={\n",
    "        'color': 'red',\n",
    "    },\n",
    "    tags=['blue', 'red'],\n",
    "    latents=[{\n",
    "        \"latent_type\": \"embedding\",\n",
    "        \"file\": latent_file,\n",
    "    }, {\n",
    "        \"latent_type\": \"mask\",\n",
    "        \"file\": mask_file,\n",
    "        \"is_mask\": True,\n",
    "    }],\n",
    ")\n",
    "image"
   ]
  },
  {
   "cell_type": "markdown",
   "id": "d224d0884c18c011",
   "metadata": {
    "collapsed": false
   },
   "source": [
    "### Tag images"
   ]
  },
  {
   "cell_type": "code",
   "execution_count": null,
   "id": "f4ff57b1649fd674",
   "metadata": {
    "collapsed": false
   },
   "outputs": [],
   "source": [
    "response = await DataRoom.tag_images(\n",
    "    image_ids=[\n",
    "        images[0]['id'],\n",
    "        images[1]['id'],\n",
    "        images[2]['id'],\n",
    "    ],\n",
    "    tag_names=['tag1', 'tag2'],\n",
    ")\n",
    "response"
   ]
  },
  {
   "cell_type": "markdown",
   "id": "4c83ee39d28e5e5d",
   "metadata": {
    "collapsed": false
   },
   "source": [
    "### Add image attributes\n",
    "Preserves the existing attributes and adds or updates the given ones."
   ]
  },
  {
   "cell_type": "code",
   "execution_count": null,
   "id": "ea9572b1300dd0d6",
   "metadata": {
    "collapsed": false
   },
   "outputs": [],
   "source": [
    "image = await DataRoom.add_image_attributes(\n",
    "    image_id='notebook-from-file-2',\n",
    "    attributes={\n",
    "        'new_attr': 'new',\n",
    "    },\n",
    ")\n",
    "image"
   ]
  },
  {
   "cell_type": "markdown",
   "id": "d5b50b1ad042ef46",
   "metadata": {
    "collapsed": false
   },
   "source": [
    "### Add image attributes in bulk"
   ]
  },
  {
   "cell_type": "code",
   "execution_count": null,
   "id": "47900a51b37e8fdd",
   "metadata": {
    "collapsed": false
   },
   "outputs": [],
   "source": [
    "response = await DataRoom.add_image_attributes_in_bulk({\n",
    "    image['id']: {\n",
    "        'new_attr': 'new',\n",
    "    }\n",
    "    for image in images[:3]\n",
    "})\n",
    "response"
   ]
  },
  {
   "cell_type": "markdown",
   "id": "d061096889bd1d54",
   "metadata": {},
   "source": [
    "### Update images in bulk"
   ]
  },
  {
   "cell_type": "code",
   "execution_count": null,
   "id": "6a7e02acb5399ce9",
   "metadata": {},
   "outputs": [],
   "source": [
    "images = await DataRoom.get_images(limit=3, page_size=3)\n",
    "response = await DataRoom.update_images([\n",
    "    {\n",
    "        'id': image['id'],\n",
    "        'source': 'bulk_update',\n",
    "    } for image in images\n",
    "])\n",
    "response"
   ]
  },
  {
   "cell_type": "markdown",
   "id": "d9f7a70adaef0941",
   "metadata": {
    "collapsed": false
   },
   "source": [
    "### Delete image\n",
    "This permanently deletes the image and all the associated files on S3."
   ]
  },
  {
   "cell_type": "code",
   "execution_count": null,
   "id": "7359b901ac61091a",
   "metadata": {
    "collapsed": false
   },
   "outputs": [],
   "source": [
    "response = await DataRoom.delete_image(image_id='notebook-from-file-1')\n",
    "print(response)"
   ]
  },
  {
   "cell_type": "markdown",
   "id": "a58ab4e59c5d823",
   "metadata": {
    "collapsed": false
   },
   "source": [
    "### Wrong URL\n",
    "When providing a wrong URL, the client will raise an exception with the error message."
   ]
  },
  {
   "cell_type": "code",
   "execution_count": null,
   "id": "1963876a3e291bd3",
   "metadata": {
    "collapsed": false
   },
   "outputs": [],
   "source": [
    "image_file = await DataRoom.download_image_from_url('https://www.example.com/does-not-exist.jpg')"
   ]
  },
  {
   "cell_type": "code",
   "execution_count": null,
   "id": "765bace50feeb64a",
   "metadata": {
    "collapsed": false
   },
   "outputs": [],
   "source": [
    "image = await DataRoom.create_image(image_id='fail', image_url='https://www.example.com/does-not-exist.jpg')"
   ]
  },
  {
   "cell_type": "markdown",
   "id": "7c433cbb7519c1c2",
   "metadata": {
    "collapsed": false
   },
   "source": [
    "### Filter images"
   ]
  },
  {
   "cell_type": "code",
   "execution_count": null,
   "id": "d73847c19783da7f",
   "metadata": {
    "collapsed": false
   },
   "outputs": [],
   "source": [
    "images = await DataRoom.get_images(\n",
    "    short_edge=882,\n",
    ")\n",
    "len(images)"
   ]
  },
  {
   "cell_type": "code",
   "execution_count": null,
   "id": "ca3f49cffed6f4e8",
   "metadata": {
    "collapsed": false
   },
   "outputs": [],
   "source": [
    "images = await DataRoom.get_images(\n",
    "    short_edge__gt=881,\n",
    "    short_edge__gte=882,\n",
    ")\n",
    "len(images)"
   ]
  },
  {
   "cell_type": "code",
   "execution_count": null,
   "id": "a1d9c1aa2f83ae21",
   "metadata": {
    "collapsed": false
   },
   "outputs": [],
   "source": [
    "images = await DataRoom.get_images(\n",
    "    short_edge__lt=801,\n",
    "    short_edge__lte=800,\n",
    ")\n",
    "len(images)"
   ]
  },
  {
   "cell_type": "code",
   "execution_count": null,
   "id": "4dc082172e3744d0",
   "metadata": {
    "collapsed": false
   },
   "outputs": [],
   "source": [
    "images = await DataRoom.get_images(\n",
    "    aspect_ratio=1.0,\n",
    ")\n",
    "len(images)"
   ]
  },
  {
   "cell_type": "code",
   "execution_count": null,
   "id": "71c9b83f45bde953",
   "metadata": {
    "collapsed": false
   },
   "outputs": [],
   "source": [
    "images = await DataRoom.get_images(\n",
    "    aspect_ratio__lt=2.0,\n",
    "    aspect_ratio__gte=1.5,\n",
    ")\n",
    "len(images)"
   ]
  },
  {
   "cell_type": "code",
   "execution_count": null,
   "id": "198632c43481317a",
   "metadata": {
    "collapsed": false
   },
   "outputs": [],
   "source": [
    "images = await DataRoom.get_images(\n",
    "    aspect_ratio_fraction='4:3',\n",
    ")\n",
    "len(images)"
   ]
  },
  {
   "cell_type": "code",
   "execution_count": null,
   "id": "fbeae45e885e2125",
   "metadata": {
    "collapsed": false
   },
   "outputs": [],
   "source": [
    "images = await DataRoom.get_images(\n",
    "    source='website',\n",
    ")\n",
    "len(images)"
   ]
  },
  {
   "cell_type": "code",
   "execution_count": null,
   "id": "3890c5dfaf896633",
   "metadata": {
    "collapsed": false
   },
   "outputs": [],
   "source": [
    "images = await DataRoom.get_images(\n",
    "    attributes={\n",
    "        'color': 'blue',\n",
    "        'user': 'john',\n",
    "    },\n",
    ")\n",
    "len(images)"
   ]
  },
  {
   "cell_type": "code",
   "execution_count": null,
   "id": "ab961ac6a6664472",
   "metadata": {},
   "outputs": [],
   "source": [
    "images = await DataRoom.get_images(\n",
    "    attributes={\n",
    "        'probability__gt': 100,\n",
    "    },\n",
    ")\n",
    "len(images)"
   ]
  },
  {
   "cell_type": "code",
   "execution_count": null,
   "id": "a28bc6f2c4a7b4c1",
   "metadata": {
    "collapsed": false
   },
   "outputs": [],
   "source": [
    "images = await DataRoom.get_images(\n",
    "    has_attributes=['color', 'user'],\n",
    ")\n",
    "len(images)"
   ]
  },
  {
   "cell_type": "code",
   "execution_count": null,
   "id": "90236c222e8f6313",
   "metadata": {
    "collapsed": false
   },
   "outputs": [],
   "source": [
    "images = await DataRoom.get_images(\n",
    "    lacks_attributes=['something'],\n",
    ")\n",
    "len(images)"
   ]
  },
  {
   "cell_type": "code",
   "execution_count": null,
   "id": "fb5c00db14d397ba",
   "metadata": {
    "collapsed": false
   },
   "outputs": [],
   "source": [
    "images = await DataRoom.get_images(\n",
    "    tags=['blue'],\n",
    ")\n",
    "len(images)"
   ]
  },
  {
   "cell_type": "markdown",
   "id": "8e2d03d6d1b28f13",
   "metadata": {
    "collapsed": false
   },
   "source": [
    "### Get image logs"
   ]
  },
  {
   "cell_type": "code",
   "execution_count": null,
   "id": "8ac1ee6699952a14",
   "metadata": {
    "collapsed": false
   },
   "outputs": [],
   "source": [
    "logs = await DataRoom.get_image_audit_logs(images[0]['id'])\n",
    "logs"
   ]
  },
  {
   "cell_type": "markdown",
   "id": "171dd1160d5a8a2a",
   "metadata": {
    "collapsed": false
   },
   "source": [
    "### Count images\n",
    "All the same filters as above can be used to count images."
   ]
  },
  {
   "cell_type": "code",
   "execution_count": null,
   "id": "8f622ba7fcf4c434",
   "metadata": {
    "collapsed": false
   },
   "outputs": [],
   "source": [
    "count = await DataRoom.count_images(\n",
    "    aspect_ratio=1.0,\n",
    ")\n",
    "print(count)"
   ]
  },
  {
   "cell_type": "markdown",
   "id": "f63837e8ec61460e",
   "metadata": {
    "collapsed": false
   },
   "source": [
    "### Get distance between two images"
   ]
  },
  {
   "cell_type": "code",
   "execution_count": null,
   "id": "6e885930781914c7",
   "metadata": {
    "collapsed": false
   },
   "outputs": [],
   "source": [
    "images = await DataRoom.get_images()\n",
    "if len(images) > 1:\n",
    "    distance = await DataRoom.get_image_distance(images[0]['id'], images[1]['id'])\n",
    "    print(distance)\n",
    "else:\n",
    "    print('Create at least two images first')"
   ]
  },
  {
   "cell_type": "markdown",
   "id": "ec1ea37cdec2215",
   "metadata": {
    "collapsed": false
   },
   "source": [
    "### Get similarity between two images"
   ]
  },
  {
   "cell_type": "code",
   "execution_count": null,
   "id": "b5d2d593544b822f",
   "metadata": {
    "collapsed": false
   },
   "outputs": [],
   "source": [
    "images = await DataRoom.get_images()\n",
    "if len(images) > 1:\n",
    "    similarity = await DataRoom.get_image_similarity(images[0]['id'], images[1]['id'])\n",
    "    print(similarity)\n",
    "else:\n",
    "    print('Create at least two images first')"
   ]
  },
  {
   "cell_type": "markdown",
   "id": "113010fef7c8adb5",
   "metadata": {
    "collapsed": false
   },
   "source": [
    "### Get similar images from id\n",
    "Get similar images to the image with the given id.\n",
    "Optionally pass the number of similar images to return."
   ]
  },
  {
   "cell_type": "code",
   "execution_count": null,
   "id": "4ec7682b4a74ebf4",
   "metadata": {
    "collapsed": false
   },
   "outputs": [],
   "source": [
    "images = await DataRoom.get_images()\n",
    "if len(images):\n",
    "    similar_images = await DataRoom.get_similar_images(image_id=images[0]['id'], number=2)\n",
    "    for image in similar_images:\n",
    "        print(image)\n",
    "else:\n",
    "    print('Create at least one image first')"
   ]
  },
  {
   "cell_type": "markdown",
   "id": "e5059fa4f3da9703",
   "metadata": {
    "collapsed": false
   },
   "source": [
    "### Get similar images from file\n",
    "Get similar images to the given image file."
   ]
  },
  {
   "cell_type": "code",
   "execution_count": null,
   "id": "c05ed1039116f41a",
   "metadata": {
    "collapsed": false
   },
   "outputs": [],
   "source": [
    "from dataroom_client import DataRoomFile\n",
    "\n",
    "image_file = DataRoomFile.from_path('image.png')\n",
    "similar_images = await DataRoom.get_similar_images(image_file=image_file, number=2)\n",
    "for image in similar_images:\n",
    "    print(image)"
   ]
  },
  {
   "cell_type": "markdown",
   "id": "f6fe0923c6252e50",
   "metadata": {},
   "source": [
    "### Get similar images to vector"
   ]
  },
  {
   "cell_type": "code",
   "execution_count": null,
   "id": "e947f6f35fdc1235",
   "metadata": {},
   "outputs": [],
   "source": [
    "vector = \",\".join([str(x) for x in get_random_vector()])\n",
    "vector = f'[{vector}]'\n",
    "similar_images = await DataRoom.get_similar_images(\n",
    "    image_vector=vector,\n",
    "    number=5,\n",
    "    fields=['id', 'source'],\n",
    "    sources=['loader'],\n",
    ")\n",
    "for image in similar_images:\n",
    "    print(image)"
   ]
  },
  {
   "cell_type": "markdown",
   "id": "2595fd4172e6eabe",
   "metadata": {
    "collapsed": false
   },
   "source": [
    "### Set image latent\n",
    "Updates or creates a latent for the image."
   ]
  },
  {
   "cell_type": "code",
   "execution_count": null,
   "id": "ff8b2c257e93a720",
   "metadata": {
    "collapsed": false
   },
   "outputs": [],
   "source": [
    "from dataroom_client import DataRoomFile\n",
    "\n",
    "image = (await DataRoom.get_images(limit=1))[0]\n",
    "\n",
    "latent_file = DataRoomFile.from_path('image_latent.txt')\n",
    "response = await DataRoom.set_image_latent(\n",
    "    image_id=image['id'],\n",
    "    latent_file=latent_file,\n",
    "    latent_type='embedding',\n",
    ")\n",
    "\n",
    "print(response)"
   ]
  },
  {
   "cell_type": "code",
   "execution_count": null,
   "id": "122ce1eddfbb43a6",
   "metadata": {
    "collapsed": false
   },
   "outputs": [],
   "source": [
    "image = await DataRoom.get_image(image['id'])\n",
    "image"
   ]
  },
  {
   "cell_type": "markdown",
   "id": "b6262b24f05622be",
   "metadata": {
    "collapsed": false
   },
   "source": [
    "Delete latent"
   ]
  },
  {
   "cell_type": "code",
   "execution_count": null,
   "id": "52cc4c2b5fa590f3",
   "metadata": {
    "collapsed": false
   },
   "outputs": [],
   "source": [
    "response = await DataRoom.delete_image_latent(image_id=image['id'], latent_type='embedding')"
   ]
  },
  {
   "cell_type": "markdown",
   "id": "ae1092374af23e8a",
   "metadata": {
    "collapsed": false
   },
   "source": [
    "Filter by latents"
   ]
  },
  {
   "cell_type": "code",
   "execution_count": null,
   "id": "6e11b56be27efc0c",
   "metadata": {
    "collapsed": false
   },
   "outputs": [],
   "source": [
    "images = await DataRoom.get_images(\n",
    "    has_latents=['embedding'],\n",
    ")\n",
    "len(images)"
   ]
  },
  {
   "cell_type": "code",
   "execution_count": null,
   "id": "c155d1e7198b552",
   "metadata": {
    "collapsed": false
   },
   "outputs": [],
   "source": [
    "images = await DataRoom.get_images(\n",
    "    lacks_latents=['embedding'],\n",
    ")\n",
    "len(images)"
   ]
  },
  {
   "cell_type": "markdown",
   "id": "6bb57fb2eeb7ab1d",
   "metadata": {
    "collapsed": false
   },
   "source": [
    "### Get image Coca Embedding\n",
    "Get an existing Coca Embedding for the image."
   ]
  },
  {
   "cell_type": "code",
   "execution_count": null,
   "id": "f593e98674ed5c3f",
   "metadata": {
    "collapsed": false
   },
   "outputs": [],
   "source": [
    "image = await DataRoom.get_image(images[0]['id'], fields=['coca_embedding'])\n",
    "image['coca_embedding']"
   ]
  },
  {
   "cell_type": "markdown",
   "id": "76552443767a1e6b",
   "metadata": {
    "collapsed": false
   },
   "source": [
    "### Set image Coca Embedding\n",
    "Updates or creates a Coca Embedding for the image."
   ]
  },
  {
   "cell_type": "code",
   "execution_count": null,
   "id": "8e0823df88c28fc1",
   "metadata": {
    "collapsed": false
   },
   "outputs": [],
   "source": [
    "vector = \",\".join([str(x) for x in get_random_vector()])\n",
    "vector = f'[{vector}]'\n",
    "embedding = await DataRoom.update_image(images[0]['id'], coca_embedding=vector)\n",
    "embedding"
   ]
  },
  {
   "cell_type": "markdown",
   "id": "9d7f2b3c1558c61e",
   "metadata": {},
   "source": [
    "### Aggregate images"
   ]
  },
  {
   "cell_type": "code",
   "execution_count": null,
   "id": "30dfa79481035168",
   "metadata": {},
   "outputs": [],
   "source": [
    "result = await DataRoom.aggregate_images(\n",
    "    type='stats',\n",
    "    field='width',\n",
    ")\n",
    "print(result)"
   ]
  },
  {
   "cell_type": "markdown",
   "id": "9401ad4c509901a3",
   "metadata": {},
   "source": [
    "### Bucket images"
   ]
  },
  {
   "cell_type": "code",
   "execution_count": null,
   "id": "a7634e4e5bb40085",
   "metadata": {},
   "outputs": [],
   "source": [
    "result = await DataRoom.bucket_images(\n",
    "    field='width',\n",
    "    size=10,\n",
    ")\n",
    "print(result)"
   ]
  },
  {
   "cell_type": "markdown",
   "id": "1d08edf4b9849f70",
   "metadata": {
    "collapsed": false
   },
   "source": [
    "# Synchronous Client\n",
    "To use the synchronous client, import `DataRoomClientSync` instead of `DataRoomClient`. \n",
    "Unfortunately, it is not easily possible to use this client in a notebook."
   ]
  },
  {
   "cell_type": "code",
   "execution_count": null,
   "id": "13dd3789b011f5b8",
   "metadata": {
    "collapsed": false
   },
   "outputs": [],
   "source": [
    "from dataroom_client import DataRoomClientSync\n",
    "\n",
    "DataRoom = DataRoomClientSync(\n",
    "    api_url='http://localhost:8000/api/',  # no need for prod\n",
    ")"
   ]
  }
 ],
 "metadata": {
  "kernelspec": {
   "display_name": "Python 3 (ipykernel)",
   "language": "python",
   "name": "python3"
  },
  "language_info": {
   "codemirror_mode": {
    "name": "ipython",
    "version": 3
   },
   "file_extension": ".py",
   "mimetype": "text/x-python",
   "name": "python",
   "nbconvert_exporter": "python",
   "pygments_lexer": "ipython3",
   "version": "3.13.0"
  }
 },
 "nbformat": 4,
 "nbformat_minor": 5
}
